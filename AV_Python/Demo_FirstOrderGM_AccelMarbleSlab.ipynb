{
 "cells": [
  {
   "cell_type": "markdown",
   "id": "1318e7e4",
   "metadata": {},
   "source": [
    "This file is the companion of the article:\n",
    "IMU Error Modeling Tutorial: INS state estimation and real-time sensor calibration \n",
    "authored by \n",
    "Jay A. Farrell, Felipe O. Silva, Farzana Rahman, and J. Wendel.\n",
    "This tutorial is accepted for publication in \n",
    "IEEE Control Systems Magazine (referred to below as IEEE CSM)\n",
    "The articles main point-of-contact is J. Farrell (farrell@ece.ucr.edu)\n",
    "\n",
    "This software is distributed for academic purposes under the MIT License\n",
    " Copyright (c) 2025 JAY A FARRELL\n",
    "Permission is hereby granted, free of charge, to any person obtaining a copy\n",
    "of this software and associated documentation files (the \"Software\"), to deal\n",
    "in the Software without restriction, including without limitation the rights\n",
    "to use, copy, modify, merge, publish, distribute, sublicense, and/or sell\n",
    "copies of the Software, and to permit persons to whom the Software is\n",
    "furnished to do so, subject to the following conditions:\n",
    " \n",
    "The above copyright notice and this permission notice shall be included in all\n",
    "copies or substantial portions of the Software.\n",
    " \n",
    "THE SOFTWARE IS PROVIDED \"AS IS\", WITHOUT WARRANTY OF ANY KIND, EXPRESS OR\n",
    "IMPLIED, INCLUDING BUT NOT LIMITED TO THE WARRANTIES OF MERCHANTABILITY,\n",
    "FITNESS FOR A PARTICULAR PURPOSE AND NONINFRINGEMENT. IN NO EVENT SHALL THE\n",
    "AUTHORS OR COPYRIGHT HOLDERS BE LIABLE FOR ANY CLAIM, DAMAGES OR OTHER\n",
    "LIABILITY, WHETHER IN AN ACTION OF CONTRACT, TORT OR OTHERWISE, ARISING FROM,\n",
    "OUT OF OR IN CONNECTION WITH THE SOFTWARE OR THE USE OR OTHER DEALINGS IN THE\n",
    "SOFTWARE.\n"
   ]
  },
  {
   "cell_type": "markdown",
   "id": "488cc8f7",
   "metadata": {},
   "source": [
    "# Purpose\n",
    "This notebook defines is an example of a first-order Gauss-Markov error model that matches the Allan standard deviation plot for delays up to about 100 seconds. This is more than sufficient for tightly-integrated GNSS aided INS applications where the INS is typically corrected by the GNSS measurements at 1 Hz, but may miss GNSS corrections over short intervals of time. When those intervals grow beyond 10 seconds, the application behavior should be concerned about the missing GNSS correction data and grwoing inaccuracy of the INS solution. \n",
    "\n",
    "# Assumed Application\n",
    "The assumtions are:\n",
    "1) A stochastic estimator is being constructed, such as a Kalman filter, for an aided INS. The estimator requires a state-space error model in continuous and discrete time for each IMU output. See for example, eqn. (11.106) or (11.107) in [2].\n",
    "2) Each state-space model must be generate data capable of matching an instruments Allan standard deviation plot over a range of delays.  \n",
    "\n",
    "# Status\n",
    "This notebook is not quite debugged. The theoretically computed standard deviation should match the emperical standard deviation. Currently is noy quite matching for $t\\in[5,10]$. \n",
    "\n",
    "# References\n",
    "This file is the companion of the article:<br>\n",
    "[1] Jay A. Farrell, Felipe O. Silva, Farzana Rahman, and J. Wendel. \n",
    "    \"IMU Error Modeling Tutorial: INS state estimation and real-time sensor calibration\n",
    "    IEEE Control Systems Magazine.\n",
    "\n",
    "A supplementary reference is:<br>\n",
    "[2] J. A. Farrell, \"Aided Navigation: GPS with High Rate Sensors\", McGraw-Hill, 2008."
   ]
  },
  {
   "cell_type": "code",
   "execution_count": null,
   "id": "f3b71097",
   "metadata": {},
   "outputs": [],
   "source": [
    "import ASD_to_GaussMarkovFirstOrder as ASD2GM1\n",
    "import allantools\n",
    "import scipy.io as sio\n",
    "import numpy as np\n",
    "import matplotlib.pyplot as plt\n",
    "\n",
    "# The values of Fs, N, B, Tp are read from the ASD plot and adjusted as needed.\n",
    "Fs = 100    # Sampling frequency, Hz\n",
    "N  = 3.3e-3 # ASD, m/s/s/rtHz = m/s/rtsec\n",
    "B  = 9e-4   # bias instability, m/s/s \n",
    "Tp = 300    # desired delay for the GM ASD peak, seconds\n",
    "\n",
    "# Create an instance of the ASD_to_GaussMarkovFirstOrder class\n",
    "gm1 = ASD2GM1.ASD_to_GaussMarkovFirstOrder(N, B, Tp, Fs)"
   ]
  },
  {
   "cell_type": "code",
   "execution_count": null,
   "id": "e03f4650",
   "metadata": {},
   "outputs": [],
   "source": [
    "show_plots = False\n",
    "duration = 10000  # Duration of the simulation in seconds\n",
    "err, bias, rw = gm1.simulate_discrete_time_model(duration, show_plots)\n"
   ]
  },
  {
   "cell_type": "code",
   "execution_count": null,
   "id": "bd454ea0",
   "metadata": {},
   "outputs": [],
   "source": [
    "# Load the IMU data from the MATLAB file\n",
    "path = '../AV_Matlab_SW_IEEECSM/parsed_isolated_marble_data_az.mat'\n",
    "print(f\"Loading data from {path}\"  )\n",
    "data = sio.loadmat(path)\n",
    "acc_z = data['acc_z']\n",
    "print(f\"acc_z shape: {acc_z.shape}\")\n",
    "\n",
    "# Define the time intervals for Allan deviation\n",
    "vals = np.arange(1, 10, dtype=float)  # Create an array of values from 1 to 9\n",
    "# Define the time intervals for Allan deviation\n",
    "taus = np.concatenate([0.01*vals, 0.1*vals, vals, 10*vals, 100*vals])  # Concatenate to create a range of taus\n",
    "\n",
    "# Calculate Allan deviation for the IMU data\n",
    "tau, adev, adeverr, n = allantools.oadev(acc_z, rate=Fs, data_type='freq', taus=taus)\n",
    "\n",
    "# calculate Allan deviation for the simulated data\n",
    "tau_err, adev_err, adeverr, n = allantools.oadev(err, rate=Fs, data_type='freq', taus=taus)\n",
    "tau_bias, adev_bias, adeverr, n = allantools.oadev(bias, rate=Fs, data_type='freq', taus=taus)\n",
    "tau_rw, adev_rw, adeverr, n = allantools.oadev(rw, rate=Fs, data_type='freq', taus=taus)\n"
   ]
  },
  {
   "cell_type": "code",
   "execution_count": null,
   "id": "6f60d4a7",
   "metadata": {},
   "outputs": [],
   "source": [
    "# Plot the Allan deviation\n",
    "fig = plt.loglog(tau, adev, 'o', label='Data')\n",
    "fig = plt.loglog(tau_bias, adev_bias, '.', label='bias')\n",
    "fig = plt.loglog(tau_rw, adev_rw, '.', label='random walk')\n",
    "fig = plt.loglog(tau_err, adev_err, '.', label='total error')\n",
    "#print(f\"tau = {tau}, \\nadev = {adev}, \\nadeverr = {adeverr}, \\nn = {n}\")\n",
    "plt.xlabel('Delay, seconds')\n",
    "plt.ylabel('ASD, m/s^2')\n",
    "plt.minorticks_on()\n",
    "plt.grid(which='both', axis='both')\n",
    "plt.xlim(left=1e-2, right=5e2)\n",
    "plt.ylim(bottom=1e-4, top=1e-1)\n",
    "plt.legend()\n",
    "plt.show()"
   ]
  },
  {
   "cell_type": "markdown",
   "id": "1cf6c43a",
   "metadata": {},
   "source": [
    "# Purpose\n",
    "For the simulated data and then for the actual data, the next cell computes and plots:\n",
    "1) instances of error trajectory (narrow transparent curves);\n",
    "2) the robust standard deviation of those instances at each time instant (wide, opaque, blue curve); and,\n",
    "3) the theroetically computed standard deviation (wide, opaque, black curve)."
   ]
  },
  {
   "cell_type": "code",
   "execution_count": null,
   "id": "4b5ef825",
   "metadata": {},
   "outputs": [],
   "source": [
    "T_avg = 10  # Average time, seconds\n",
    "T_int = 10  # Integration time, seconds \n",
    "# For no overlab:\n",
    "T_shft = (T_avg + T_int)  # Shift time, seconds\n",
    "MaxRep = 1000  # Maximum number of repetitions for the covariance test\n",
    "\n",
    "# Test the covariance function with the simulated data \n",
    "gm1.test_cov(err, T_avg, T_int, T_shft, MaxRep)\n",
    "\n",
    "# Test the covariance function with the real data\n",
    "gm1.test_cov(acc_z, T_avg, T_int, T_shft, MaxRep)\n"
   ]
  },
  {
   "cell_type": "code",
   "execution_count": null,
   "id": "b611ccc4",
   "metadata": {},
   "outputs": [],
   "source": []
  }
 ],
 "metadata": {
  "kernelspec": {
   "display_name": "Python 3",
   "language": "python",
   "name": "python3"
  },
  "language_info": {
   "codemirror_mode": {
    "name": "ipython",
    "version": 3
   },
   "file_extension": ".py",
   "mimetype": "text/x-python",
   "name": "python",
   "nbconvert_exporter": "python",
   "pygments_lexer": "ipython3",
   "version": "3.13.0"
  }
 },
 "nbformat": 4,
 "nbformat_minor": 5
}
