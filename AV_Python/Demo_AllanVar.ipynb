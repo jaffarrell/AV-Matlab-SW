{
 "cells": [
  {
   "cell_type": "markdown",
   "id": "1318e7e4",
   "metadata": {},
   "source": [
    "This file is the companion of the article:\n",
    "IMU Error Modeling Tutorial: INS state estimation and real-time sensor calibration \n",
    "authored by \n",
    "Jay A. Farrell, Felipe O. Silva, Farzana Rahman, and J. Wendel.\n",
    "This tutorial is accepted for publication in \n",
    "IEEE Control Systems Magazine (referred to below as IEEE CSM)\n",
    "The articles main point-of-contact is J. Farrell (farrell@ece.ucr.edu)\n",
    "\n",
    "This software is distributed for academic purposes under the MIT License\n",
    " Copyright (c) 2025 JAY A FARRELL\n",
    "Permission is hereby granted, free of charge, to any person obtaining a copy\n",
    "of this software and associated documentation files (the \"Software\"), to deal\n",
    "in the Software without restriction, including without limitation the rights\n",
    "to use, copy, modify, merge, publish, distribute, sublicense, and/or sell\n",
    "copies of the Software, and to permit persons to whom the Software is\n",
    "furnished to do so, subject to the following conditions:\n",
    " \n",
    "The above copyright notice and this permission notice shall be included in all\n",
    "copies or substantial portions of the Software.\n",
    " \n",
    "THE SOFTWARE IS PROVIDED \"AS IS\", WITHOUT WARRANTY OF ANY KIND, EXPRESS OR\n",
    "IMPLIED, INCLUDING BUT NOT LIMITED TO THE WARRANTIES OF MERCHANTABILITY,\n",
    "FITNESS FOR A PARTICULAR PURPOSE AND NONINFRINGEMENT. IN NO EVENT SHALL THE\n",
    "AUTHORS OR COPYRIGHT HOLDERS BE LIABLE FOR ANY CLAIM, DAMAGES OR OTHER\n",
    "LIABILITY, WHETHER IN AN ACTION OF CONTRACT, TORT OR OTHERWISE, ARISING FROM,\n",
    "OUT OF OR IN CONNECTION WITH THE SOFTWARE OR THE USE OR OTHER DEALINGS IN THE\n",
    "SOFTWARE.\n"
   ]
  },
  {
   "cell_type": "code",
   "execution_count": null,
   "id": "f3b71097",
   "metadata": {},
   "outputs": [],
   "source": [
    "import scipy.io as sio\n",
    "import matplotlib.pyplot as plt\n",
    "import numpy as np\n",
    "import allantools\n",
    "\n",
    "path = '../AV_Matlab_SW_IEEECSM/parsed_isolated_marble_data_az.mat'\n",
    "print(f\"Loading data from {path}\"  )\n",
    "data = sio.loadmat(path)\n",
    "acc_z = data['acc_z']\n",
    "print(f\"acc_z shape: {acc_z.shape}\")\n",
    "\n",
    "# Calculate Allan deviation for the IMU data\n",
    "vals = np.arange(1, 10, dtype=float)  # Create an array of values from 1 to 9\n",
    "# Define the time intervals for Allan deviation\n",
    "taus = np.concatenate([0.01*vals, 0.1*vals, vals, 10*vals, 100*vals])  # Concatenate to create a range of taus\n",
    "#print(f\"taus = {taus}\")\n",
    "Fs = 100  # Sampling frequency in Hz\n",
    "tau, adev, adeverr, n = allantools.oadev(acc_z, rate=Fs, data_type='freq', taus=taus)\n",
    "asd = np.sqrt(adev)  # Convert Allan deviation to Allan standard deviation (ASD)"
   ]
  },
  {
   "cell_type": "code",
   "execution_count": null,
   "id": "c66313f4",
   "metadata": {},
   "outputs": [],
   "source": [
    "\n",
    "fig = plt.loglog(tau, adev, 'o', label='Allan Deviation')\n",
    "#print(f\"tau = {tau}, \\nadev = {adev}, \\nadeverr = {adeverr}, \\nn = {n}\")\n",
    "plt.xlabel('Delay, seconds')\n",
    "plt.ylabel('ASD, m/s^2')\n",
    "plt.minorticks_on()\n",
    "plt.grid(which='both', axis='both')\n",
    "plt.xlim(left=1e-2, right=5e2)\n",
    "plt.ylim(bottom=1e-4, top=1e-1)"
   ]
  },
  {
   "cell_type": "code",
   "execution_count": null,
   "id": "342401a4",
   "metadata": {},
   "outputs": [],
   "source": []
  }
 ],
 "metadata": {
  "kernelspec": {
   "display_name": "Python 3",
   "language": "python",
   "name": "python3"
  },
  "language_info": {
   "codemirror_mode": {
    "name": "ipython",
    "version": 3
   },
   "file_extension": ".py",
   "mimetype": "text/x-python",
   "name": "python",
   "nbconvert_exporter": "python",
   "pygments_lexer": "ipython3",
   "version": "3.13.0"
  }
 },
 "nbformat": 4,
 "nbformat_minor": 5
}
